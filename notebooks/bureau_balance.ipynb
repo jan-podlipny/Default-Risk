{
 "cells": [
  {
   "cell_type": "code",
   "execution_count": null,
   "metadata": {},
   "outputs": [],
   "source": [
    "from IPython.core.display import display, HTML\n",
    "display(HTML(\"<style>.container { width:95% !important; }</style>\")) # sets width of notebook cell\n",
    "import numpy as np\n",
    "import pandas as pd\n",
    "import matplotlib.pyplot as plt\n",
    "import seaborn as sns\n",
    "\n",
    "import warnings\n",
    "warnings.filterwarnings('ignore')\n",
    "\n",
    "%matplotlib inline"
   ]
  },
  {
   "cell_type": "code",
   "execution_count": null,
   "metadata": {},
   "outputs": [],
   "source": [
    "bureau_bal = pd.read_csv('../data/raw/bureau_balance.csv')"
   ]
  },
  {
   "cell_type": "code",
   "execution_count": null,
   "metadata": {
    "scrolled": false
   },
   "outputs": [],
   "source": [
    "bureau_bal.head()"
   ]
  },
  {
   "cell_type": "code",
   "execution_count": null,
   "metadata": {},
   "outputs": [],
   "source": [
    "def missing_values(df: pd.DataFrame) -> pd.DataFrame:\n",
    "    \"\"\"returns DataFrame with count and percentage of NaN values.\n",
    "        Input:\n",
    "            df: DataFrame\n",
    "        Output:\n",
    "            nan_df: DataFrame containing count and percentage of NaN values of input DataFrame\n",
    "    \"\"\"\n",
    "    count = df.isnull().sum().sort_values(ascending=False)\n",
    "    n = df.shape[0]\n",
    "    nan_percentage = count / n*100\n",
    "    nan_df = pd.concat([count,nan_percentage],axis = 1, keys=['Count', '% of null'])\n",
    "    return nan_df \n",
    "\n",
    "def filter_columns(df: pd.DataFrame, excl_dtypes: list, excl_columns: list) -> list:\n",
    "    \"\"\"Returns list of columns without pre-specified datatypes and column names\n",
    "        Inputs:\n",
    "            df: pandas dataframe\n",
    "            excl_dtypes:  list of excluded datatypes\n",
    "            excl_columns: list of excluded columns\n",
    "        Outputs:\n",
    "            arr: python list of strings (column names)\n",
    "    \"\"\"\n",
    "    return [col for col in df.columns if df[col].dtype not in excl_dtypes and col not in excl_columns]\n",
    "\n",
    "def unique_values(arr: list, df: pd.DataFrame) -> dict:\n",
    "    \"\"\"Returns list of unique values for each column in input list\n",
    "        Inputs:\n",
    "            arr: list of columns\n",
    "            df_name: name of dataframe\n",
    "        Outputs:\n",
    "            dict: dictionary of column_name:unique_values\n",
    "    \"\"\"\n",
    "    \n",
    "    d = {}\n",
    "    for col in arr:\n",
    "        d[col] =  df[col].nunique(),df[col].unique().tolist()\n",
    "    return d   "
   ]
  },
  {
   "cell_type": "code",
   "execution_count": null,
   "metadata": {},
   "outputs": [],
   "source": [
    "missing_values(bureau_bal)"
   ]
  },
  {
   "cell_type": "code",
   "execution_count": null,
   "metadata": {},
   "outputs": [],
   "source": [
    "dtypes_filter = ['float64','int64']\n",
    "columns_filter = ['SK_ID_CURR', 'DAYS_BIRTH', 'DAYS_EMPLOYED', 'DAYS_ID_PUBLISH']\n",
    "filtered_cols = filter_columns(bureau, dtypes_filter, columns_filter)\n",
    "non_continuous = unique_values(filtered_cols, bureau_bal)\n",
    "\n",
    "for col, val in non_continuous.items():\n",
    "    print('Column {} has {} distinct values.\\n{}'.format(col,val[0],val[1]))\n",
    "    print('-'*200)"
   ]
  },
  {
   "cell_type": "code",
   "execution_count": null,
   "metadata": {},
   "outputs": [],
   "source": []
  },
  {
   "cell_type": "code",
   "execution_count": null,
   "metadata": {},
   "outputs": [],
   "source": []
  },
  {
   "cell_type": "code",
   "execution_count": null,
   "metadata": {},
   "outputs": [],
   "source": []
  }
 ],
 "metadata": {
  "kernelspec": {
   "display_name": "Python 3",
   "language": "python",
   "name": "python3"
  },
  "language_info": {
   "codemirror_mode": {
    "name": "ipython",
    "version": 3
   },
   "file_extension": ".py",
   "mimetype": "text/x-python",
   "name": "python",
   "nbconvert_exporter": "python",
   "pygments_lexer": "ipython3",
   "version": "3.7.1rc1"
  },
  "toc": {
   "base_numbering": 1,
   "nav_menu": {},
   "number_sections": true,
   "sideBar": true,
   "skip_h1_title": false,
   "title_cell": "Table of Contents",
   "title_sidebar": "Contents",
   "toc_cell": false,
   "toc_position": {},
   "toc_section_display": true,
   "toc_window_display": false
  },
  "varInspector": {
   "cols": {
    "lenName": 16,
    "lenType": 16,
    "lenVar": 40
   },
   "kernels_config": {
    "python": {
     "delete_cmd_postfix": "",
     "delete_cmd_prefix": "del ",
     "library": "var_list.py",
     "varRefreshCmd": "print(var_dic_list())"
    },
    "r": {
     "delete_cmd_postfix": ") ",
     "delete_cmd_prefix": "rm(",
     "library": "var_list.r",
     "varRefreshCmd": "cat(var_dic_list()) "
    }
   },
   "types_to_exclude": [
    "module",
    "function",
    "builtin_function_or_method",
    "instance",
    "_Feature"
   ],
   "window_display": false
  }
 },
 "nbformat": 4,
 "nbformat_minor": 2
}
