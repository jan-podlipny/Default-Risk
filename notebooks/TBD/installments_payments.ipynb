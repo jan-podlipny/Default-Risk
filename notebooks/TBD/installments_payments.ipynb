{
 "cells": [
  {
   "cell_type": "code",
   "execution_count": 1,
   "metadata": {},
   "outputs": [
    {
     "data": {
      "text/html": [
       "<style>.container { width:95% !important; }</style>"
      ],
      "text/plain": [
       "<IPython.core.display.HTML object>"
      ]
     },
     "metadata": {},
     "output_type": "display_data"
    }
   ],
   "source": [
    "from IPython.core.display import display, HTML\n",
    "display(HTML(\"<style>.container { width:95% !important; }</style>\")) # sets width of notebook cell\n",
    "import numpy as np\n",
    "import pandas as pd\n",
    "import matplotlib.pyplot as plt\n",
    "import seaborn as sns\n",
    "\n",
    "import warnings\n",
    "warnings.filterwarnings('ignore')\n",
    "\n",
    "%matplotlib inline"
   ]
  },
  {
   "cell_type": "code",
   "execution_count": 5,
   "metadata": {},
   "outputs": [],
   "source": [
    "def missing_values(df: pd.DataFrame) -> pd.DataFrame:\n",
    "    \"\"\"returns DataFrame with count and percentage of NaN values.\n",
    "        Input:\n",
    "            df: DataFrame\n",
    "        Output:\n",
    "            nan_df: DataFrame containing count and percentage of NaN values of input DataFrame\n",
    "    \"\"\"\n",
    "    count = df.isnull().sum().sort_values(ascending=False)\n",
    "    n = df.shape[0]\n",
    "    nan_percentage = count / n*100\n",
    "    nan_df = pd.concat([count,nan_percentage],axis = 1, keys=['Count', '% of null'])\n",
    "    return nan_df \n",
    "\n",
    "def filter_columns(df: pd.DataFrame, excl_dtypes: list, excl_columns: list) -> list:\n",
    "    \"\"\"Returns list of columns without pre-specified datatypes and column names\n",
    "        Inputs:\n",
    "            df: pandas dataframe\n",
    "            excl_dtypes:  list of excluded datatypes\n",
    "            excl_columns: list of excluded columns\n",
    "        Outputs:\n",
    "            arr: python list of strings (column names)\n",
    "    \"\"\"\n",
    "    return [col for col in df.columns if df[col].dtype not in excl_dtypes and col not in excl_columns]\n",
    "\n",
    "def unique_values(arr: list, df: pd.DataFrame) -> dict:\n",
    "    \"\"\"Returns list of unique values for each column in input list\n",
    "        Inputs:\n",
    "            arr: list of columns\n",
    "            df: dataframe\n",
    "        Outputs:\n",
    "            dict: dictionary of column_name:unique_values\n",
    "    \"\"\"\n",
    "    \n",
    "    d = {}\n",
    "    for col in arr:\n",
    "        d[col] =  df[col].nunique(),df[col].unique().tolist()\n",
    "    return d   "
   ]
  },
  {
   "cell_type": "code",
   "execution_count": 4,
   "metadata": {},
   "outputs": [
    {
     "data": {
      "text/html": [
       "<div>\n",
       "<style scoped>\n",
       "    .dataframe tbody tr th:only-of-type {\n",
       "        vertical-align: middle;\n",
       "    }\n",
       "\n",
       "    .dataframe tbody tr th {\n",
       "        vertical-align: top;\n",
       "    }\n",
       "\n",
       "    .dataframe thead th {\n",
       "        text-align: right;\n",
       "    }\n",
       "</style>\n",
       "<table border=\"1\" class=\"dataframe\">\n",
       "  <thead>\n",
       "    <tr style=\"text-align: right;\">\n",
       "      <th></th>\n",
       "      <th>SK_ID_PREV</th>\n",
       "      <th>SK_ID_CURR</th>\n",
       "      <th>NUM_INSTALMENT_VERSION</th>\n",
       "      <th>NUM_INSTALMENT_NUMBER</th>\n",
       "      <th>DAYS_INSTALMENT</th>\n",
       "      <th>DAYS_ENTRY_PAYMENT</th>\n",
       "      <th>AMT_INSTALMENT</th>\n",
       "      <th>AMT_PAYMENT</th>\n",
       "    </tr>\n",
       "  </thead>\n",
       "  <tbody>\n",
       "    <tr>\n",
       "      <th>0</th>\n",
       "      <td>1054186</td>\n",
       "      <td>161674</td>\n",
       "      <td>1.0</td>\n",
       "      <td>6</td>\n",
       "      <td>-1180.0</td>\n",
       "      <td>-1187.0</td>\n",
       "      <td>6948.360</td>\n",
       "      <td>6948.360</td>\n",
       "    </tr>\n",
       "    <tr>\n",
       "      <th>1</th>\n",
       "      <td>1330831</td>\n",
       "      <td>151639</td>\n",
       "      <td>0.0</td>\n",
       "      <td>34</td>\n",
       "      <td>-2156.0</td>\n",
       "      <td>-2156.0</td>\n",
       "      <td>1716.525</td>\n",
       "      <td>1716.525</td>\n",
       "    </tr>\n",
       "    <tr>\n",
       "      <th>2</th>\n",
       "      <td>2085231</td>\n",
       "      <td>193053</td>\n",
       "      <td>2.0</td>\n",
       "      <td>1</td>\n",
       "      <td>-63.0</td>\n",
       "      <td>-63.0</td>\n",
       "      <td>25425.000</td>\n",
       "      <td>25425.000</td>\n",
       "    </tr>\n",
       "    <tr>\n",
       "      <th>3</th>\n",
       "      <td>2452527</td>\n",
       "      <td>199697</td>\n",
       "      <td>1.0</td>\n",
       "      <td>3</td>\n",
       "      <td>-2418.0</td>\n",
       "      <td>-2426.0</td>\n",
       "      <td>24350.130</td>\n",
       "      <td>24350.130</td>\n",
       "    </tr>\n",
       "    <tr>\n",
       "      <th>4</th>\n",
       "      <td>2714724</td>\n",
       "      <td>167756</td>\n",
       "      <td>1.0</td>\n",
       "      <td>2</td>\n",
       "      <td>-1383.0</td>\n",
       "      <td>-1366.0</td>\n",
       "      <td>2165.040</td>\n",
       "      <td>2160.585</td>\n",
       "    </tr>\n",
       "  </tbody>\n",
       "</table>\n",
       "</div>"
      ],
      "text/plain": [
       "   SK_ID_PREV  SK_ID_CURR  NUM_INSTALMENT_VERSION  NUM_INSTALMENT_NUMBER  \\\n",
       "0     1054186      161674                     1.0                      6   \n",
       "1     1330831      151639                     0.0                     34   \n",
       "2     2085231      193053                     2.0                      1   \n",
       "3     2452527      199697                     1.0                      3   \n",
       "4     2714724      167756                     1.0                      2   \n",
       "\n",
       "   DAYS_INSTALMENT  DAYS_ENTRY_PAYMENT  AMT_INSTALMENT  AMT_PAYMENT  \n",
       "0          -1180.0             -1187.0        6948.360     6948.360  \n",
       "1          -2156.0             -2156.0        1716.525     1716.525  \n",
       "2            -63.0               -63.0       25425.000    25425.000  \n",
       "3          -2418.0             -2426.0       24350.130    24350.130  \n",
       "4          -1383.0             -1366.0        2165.040     2160.585  "
      ]
     },
     "execution_count": 4,
     "metadata": {},
     "output_type": "execute_result"
    }
   ],
   "source": [
    "ins_pay = pd.read_csv('../data/raw/installments_payments.csv')\n",
    "ins_pay.head()"
   ]
  },
  {
   "cell_type": "code",
   "execution_count": 6,
   "metadata": {},
   "outputs": [
    {
     "ename": "NameError",
     "evalue": "name 'bureau' is not defined",
     "output_type": "error",
     "traceback": [
      "\u001b[1;31m---------------------------------------------------------------------------\u001b[0m",
      "\u001b[1;31mNameError\u001b[0m                                 Traceback (most recent call last)",
      "\u001b[1;32m<ipython-input-6-e2d102cbfc28>\u001b[0m in \u001b[0;36m<module>\u001b[1;34m\u001b[0m\n\u001b[0;32m      1\u001b[0m \u001b[0mdtypes_filter\u001b[0m \u001b[1;33m=\u001b[0m \u001b[1;33m[\u001b[0m\u001b[1;34m'float64'\u001b[0m\u001b[1;33m,\u001b[0m\u001b[1;34m'int64'\u001b[0m\u001b[1;33m]\u001b[0m\u001b[1;33m\u001b[0m\u001b[1;33m\u001b[0m\u001b[0m\n\u001b[0;32m      2\u001b[0m \u001b[0mcolumns_filter\u001b[0m \u001b[1;33m=\u001b[0m \u001b[1;33m[\u001b[0m\u001b[1;34m'SK_ID_CURR'\u001b[0m\u001b[1;33m,\u001b[0m \u001b[1;34m'DAYS_BIRTH'\u001b[0m\u001b[1;33m,\u001b[0m \u001b[1;34m'DAYS_EMPLOYED'\u001b[0m\u001b[1;33m,\u001b[0m \u001b[1;34m'DAYS_ID_PUBLISH'\u001b[0m\u001b[1;33m]\u001b[0m\u001b[1;33m\u001b[0m\u001b[1;33m\u001b[0m\u001b[0m\n\u001b[1;32m----> 3\u001b[1;33m \u001b[0mfiltered_cols\u001b[0m \u001b[1;33m=\u001b[0m \u001b[0mfilter_columns\u001b[0m\u001b[1;33m(\u001b[0m\u001b[0mbureau\u001b[0m\u001b[1;33m,\u001b[0m \u001b[0mdtypes_filter\u001b[0m\u001b[1;33m,\u001b[0m \u001b[0mcolumns_filter\u001b[0m\u001b[1;33m)\u001b[0m\u001b[1;33m\u001b[0m\u001b[1;33m\u001b[0m\u001b[0m\n\u001b[0m\u001b[0;32m      4\u001b[0m \u001b[0mnon_continuous\u001b[0m \u001b[1;33m=\u001b[0m \u001b[0munique_values\u001b[0m\u001b[1;33m(\u001b[0m\u001b[0mfiltered_cols\u001b[0m\u001b[1;33m,\u001b[0m \u001b[0mbureau_bal\u001b[0m\u001b[1;33m)\u001b[0m\u001b[1;33m\u001b[0m\u001b[1;33m\u001b[0m\u001b[0m\n\u001b[0;32m      5\u001b[0m \u001b[1;33m\u001b[0m\u001b[0m\n",
      "\u001b[1;31mNameError\u001b[0m: name 'bureau' is not defined"
     ]
    }
   ],
   "source": [
    "dtypes_filter = ['float64','int64']\n",
    "columns_filter = ['SK_ID_CURR', 'DAYS_BIRTH', 'DAYS_EMPLOYED', 'DAYS_ID_PUBLISH']\n",
    "filtered_cols = filter_columns(bureau, dtypes_filter, columns_filter)\n",
    "non_continuous = unique_values(filtered_cols, bureau_bal)\n",
    "\n",
    "for col, val in non_continuous.items():\n",
    "    print('Column {} has {} distinct values.\\n{}'.format(col,val[0],val[1]))\n",
    "    print('-'*200)"
   ]
  },
  {
   "cell_type": "code",
   "execution_count": null,
   "metadata": {},
   "outputs": [],
   "source": []
  }
 ],
 "metadata": {
  "kernelspec": {
   "display_name": "Python 3",
   "language": "python",
   "name": "python3"
  },
  "language_info": {
   "codemirror_mode": {
    "name": "ipython",
    "version": 3
   },
   "file_extension": ".py",
   "mimetype": "text/x-python",
   "name": "python",
   "nbconvert_exporter": "python",
   "pygments_lexer": "ipython3",
   "version": "3.7.1rc1"
  },
  "toc": {
   "base_numbering": 1,
   "nav_menu": {},
   "number_sections": true,
   "sideBar": true,
   "skip_h1_title": false,
   "title_cell": "Table of Contents",
   "title_sidebar": "Contents",
   "toc_cell": false,
   "toc_position": {},
   "toc_section_display": true,
   "toc_window_display": false
  },
  "varInspector": {
   "cols": {
    "lenName": 16,
    "lenType": 16,
    "lenVar": 40
   },
   "kernels_config": {
    "python": {
     "delete_cmd_postfix": "",
     "delete_cmd_prefix": "del ",
     "library": "var_list.py",
     "varRefreshCmd": "print(var_dic_list())"
    },
    "r": {
     "delete_cmd_postfix": ") ",
     "delete_cmd_prefix": "rm(",
     "library": "var_list.r",
     "varRefreshCmd": "cat(var_dic_list()) "
    }
   },
   "types_to_exclude": [
    "module",
    "function",
    "builtin_function_or_method",
    "instance",
    "_Feature"
   ],
   "window_display": false
  }
 },
 "nbformat": 4,
 "nbformat_minor": 2
}
